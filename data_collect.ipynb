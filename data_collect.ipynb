{
  "nbformat": 4,
  "nbformat_minor": 0,
  "metadata": {
    "colab": {
      "name": "data_collect.ipynb",
      "provenance": []
    },
    "kernelspec": {
      "name": "python3",
      "display_name": "Python 3"
    }
  },
  "cells": [
    {
      "cell_type": "code",
      "metadata": {
        "id": "SIKcu7xjy8p4",
        "colab_type": "code",
        "colab": {
          "base_uri": "https://localhost:8080/",
          "height": 71
        },
        "outputId": "4247757e-6d9a-4d93-ae94-5a85b52e0450"
      },
      "source": [
        "import torch\n",
        "import pandas_datareader.data as web\n",
        "from datetime import datetime\n",
        "from torch import optim\n",
        "from torch import nn\n",
        "from torch.nn import functional as F\n",
        "import numpy as np"
      ],
      "execution_count": null,
      "outputs": [
        {
          "output_type": "stream",
          "text": [
            "/usr/local/lib/python3.6/dist-packages/pandas_datareader/compat/__init__.py:7: FutureWarning: pandas.util.testing is deprecated. Use the functions in the public API at pandas.testing instead.\n",
            "  from pandas.util.testing import assert_frame_equal\n"
          ],
          "name": "stderr"
        }
      ]
    },
    {
      "cell_type": "code",
      "metadata": {
        "id": "9f0m7RaUzbtK",
        "colab_type": "code",
        "colab": {
          "base_uri": "https://localhost:8080/",
          "height": 34
        },
        "outputId": "36b86922-be1e-46ef-9bbc-f209ede18cb9"
      },
      "source": [
        "start = datetime(2004, 10, 1)\n",
        "end = datetime(2020, 1, 1)\n",
        "\n",
        "# AAPL Apple\n",
        "# GOOGL Google\n",
        "# MSFT Microsoft\n",
        "# ^IXIC NASDAQ composite\n",
        "# ^GSPC S&P500\n",
        "\n",
        "\n",
        "df = web.get_data_yahoo(['AAPL','GOOGL','MSFT','^IXIC','^GSPC'],start=start,end=end)\n",
        "df.shape"
      ],
      "execution_count": null,
      "outputs": [
        {
          "output_type": "execute_result",
          "data": {
            "text/plain": [
              "(3839, 30)"
            ]
          },
          "metadata": {
            "tags": []
          },
          "execution_count": 34
        }
      ]
    },
    {
      "cell_type": "code",
      "metadata": {
        "id": "xUFdfriHziJr",
        "colab_type": "code",
        "colab": {}
      },
      "source": [
        "df_close = df['Close']"
      ],
      "execution_count": null,
      "outputs": []
    },
    {
      "cell_type": "code",
      "metadata": {
        "id": "viefjxQDIu7y",
        "colab_type": "code",
        "colab": {
          "base_uri": "https://localhost:8080/",
          "height": 187
        },
        "outputId": "80994620-c7c1-4170-d0fc-5a9f777b61df"
      },
      "source": [
        "print(df['GOOGL'].isnull().value_counts())\n",
        "print(df['AAPL'].isnull().value_counts())\n",
        "print(df['MSFT'].isnull().value_counts())\n",
        "print(df['^GSPC'].isnull().value_counts())\n",
        "print(df['^IXIC'].isnull().value_counts())"
      ],
      "execution_count": null,
      "outputs": [
        {
          "output_type": "stream",
          "text": [
            "False    3839\n",
            "Name: GOOGL, dtype: int64\n",
            "False    3839\n",
            "Name: AAPL, dtype: int64\n",
            "False    3839\n",
            "Name: MSFT, dtype: int64\n",
            "False    3839\n",
            "Name: ^GSPC, dtype: int64\n",
            "False    3839\n",
            "Name: ^IXIC, dtype: int64\n"
          ],
          "name": "stdout"
        }
      ]
    },
    {
      "cell_type": "code",
      "metadata": {
        "id": "I8j_KgA6KIK4",
        "colab_type": "code",
        "colab": {
          "base_uri": "https://localhost:8080/",
          "height": 122
        },
        "outputId": "8015bd22-611d-4d1f-efdf-0466e2b5c589"
      },
      "source": [
        "import google.colab.drive as drive\n",
        "\n",
        "drive.mount('/content/drive')"
      ],
      "execution_count": null,
      "outputs": [
        {
          "output_type": "stream",
          "text": [
            "Go to this URL in a browser: https://accounts.google.com/o/oauth2/auth?client_id=947318989803-6bn6qk8qdgf4n4g3pfee6491hc0brc4i.apps.googleusercontent.com&redirect_uri=urn%3aietf%3awg%3aoauth%3a2.0%3aoob&scope=email%20https%3a%2f%2fwww.googleapis.com%2fauth%2fdocs.test%20https%3a%2f%2fwww.googleapis.com%2fauth%2fdrive%20https%3a%2f%2fwww.googleapis.com%2fauth%2fdrive.photos.readonly%20https%3a%2f%2fwww.googleapis.com%2fauth%2fpeopleapi.readonly&response_type=code\n",
            "\n",
            "Enter your authorization code:\n",
            "··········\n",
            "Mounted at /content/drive\n"
          ],
          "name": "stdout"
        }
      ]
    },
    {
      "cell_type": "code",
      "metadata": {
        "id": "wxokub2mKYn1",
        "colab_type": "code",
        "colab": {}
      },
      "source": [
        "df.to_csv('/content/drive/My Drive/MSc/data/data.csv')\n",
        "df_close.to_csv('/content/drive/My Drive/MSc/data/data_close.csv')"
      ],
      "execution_count": null,
      "outputs": []
    }
  ]
}