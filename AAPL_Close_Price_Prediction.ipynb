{
  "nbformat": 4,
  "nbformat_minor": 0,
  "metadata": {
    "colab": {
      "name": "AAPL_Close_Price_Prediction.ipynb",
      "provenance": []
    },
    "kernelspec": {
      "name": "python3",
      "display_name": "Python 3"
    },
    "accelerator": "GPU"
  },
  "cells": [
    {
      "cell_type": "code",
      "metadata": {
        "id": "_ZORxN5ZJTb3",
        "colab_type": "code",
        "colab": {
          "base_uri": "https://localhost:8080/",
          "height": 122
        },
        "outputId": "dbe761ce-87bf-4511-b5a5-a074b404e872"
      },
      "source": [
        "from google.colab import drive\n",
        "\n",
        "drive.mount('/content/drive')"
      ],
      "execution_count": 1,
      "outputs": [
        {
          "output_type": "stream",
          "text": [
            "Go to this URL in a browser: https://accounts.google.com/o/oauth2/auth?client_id=947318989803-6bn6qk8qdgf4n4g3pfee6491hc0brc4i.apps.googleusercontent.com&redirect_uri=urn%3aietf%3awg%3aoauth%3a2.0%3aoob&scope=email%20https%3a%2f%2fwww.googleapis.com%2fauth%2fdocs.test%20https%3a%2f%2fwww.googleapis.com%2fauth%2fdrive%20https%3a%2f%2fwww.googleapis.com%2fauth%2fdrive.photos.readonly%20https%3a%2f%2fwww.googleapis.com%2fauth%2fpeopleapi.readonly&response_type=code\n",
            "\n",
            "Enter your authorization code:\n",
            "··········\n",
            "Mounted at /content/drive\n"
          ],
          "name": "stdout"
        }
      ]
    },
    {
      "cell_type": "code",
      "metadata": {
        "id": "y_xNmZydKUuB",
        "colab_type": "code",
        "colab": {
          "base_uri": "https://localhost:8080/",
          "height": 190
        },
        "outputId": "2b51ce67-6254-43df-e6d4-761ffbd682b6"
      },
      "source": [
        "! pip install torchbearer"
      ],
      "execution_count": 2,
      "outputs": [
        {
          "output_type": "stream",
          "text": [
            "Collecting torchbearer\n",
            "\u001b[?25l  Downloading https://files.pythonhosted.org/packages/ff/e9/4049a47dd2e5b6346a2c5d215b0c67dce814afbab1cd54ce024533c4834e/torchbearer-0.5.3-py3-none-any.whl (138kB)\n",
            "\u001b[K     |████████████████████████████████| 143kB 4.0MB/s \n",
            "\u001b[?25hRequirement already satisfied: tqdm in /usr/local/lib/python3.6/dist-packages (from torchbearer) (4.41.1)\n",
            "Requirement already satisfied: numpy in /usr/local/lib/python3.6/dist-packages (from torchbearer) (1.18.5)\n",
            "Requirement already satisfied: torch>=1.0.0 in /usr/local/lib/python3.6/dist-packages (from torchbearer) (1.6.0+cu101)\n",
            "Requirement already satisfied: future in /usr/local/lib/python3.6/dist-packages (from torch>=1.0.0->torchbearer) (0.16.0)\n",
            "Installing collected packages: torchbearer\n",
            "Successfully installed torchbearer-0.5.3\n"
          ],
          "name": "stdout"
        }
      ]
    },
    {
      "cell_type": "code",
      "metadata": {
        "id": "H32ZzwVSK6IV",
        "colab_type": "code",
        "colab": {}
      },
      "source": [
        "import torch\n",
        "import pandas as pd\n",
        "import numpy as np\n",
        "import sklearn\n",
        "from sklearn import preprocessing\n",
        "from torch import nn\n",
        "from torch.nn import functional as F\n",
        "from torch import optim\n",
        "import torchbearer\n",
        "from torch.utils.data import DataLoader, Dataset"
      ],
      "execution_count": 3,
      "outputs": []
    },
    {
      "cell_type": "code",
      "metadata": {
        "id": "YOXo7arULELc",
        "colab_type": "code",
        "colab": {
          "base_uri": "https://localhost:8080/",
          "height": 119
        },
        "outputId": "378d41e7-53cc-46e6-8da8-e0ced5597746"
      },
      "source": [
        "df = pd.read_csv('/content/drive/My Drive/MSc/data/data.csv')\n",
        "df.columns"
      ],
      "execution_count": 4,
      "outputs": [
        {
          "output_type": "execute_result",
          "data": {
            "text/plain": [
              "Index(['Attributes', 'Adj Close', 'Adj Close.1', 'Adj Close.2', 'Adj Close.3',\n",
              "       'Adj Close.4', 'Close', 'Close.1', 'Close.2', 'Close.3', 'Close.4',\n",
              "       'High', 'High.1', 'High.2', 'High.3', 'High.4', 'Low', 'Low.1', 'Low.2',\n",
              "       'Low.3', 'Low.4', 'Open', 'Open.1', 'Open.2', 'Open.3', 'Open.4',\n",
              "       'Volume', 'Volume.1', 'Volume.2', 'Volume.3', 'Volume.4'],\n",
              "      dtype='object')"
            ]
          },
          "metadata": {
            "tags": []
          },
          "execution_count": 4
        }
      ]
    },
    {
      "cell_type": "code",
      "metadata": {
        "id": "nrO4JG67xKlr",
        "colab_type": "code",
        "colab": {}
      },
      "source": [
        "df = df.drop(['Attributes'], axis=1)"
      ],
      "execution_count": 5,
      "outputs": []
    },
    {
      "cell_type": "code",
      "metadata": {
        "id": "xiUotaN3kW-u",
        "colab_type": "code",
        "colab": {}
      },
      "source": [
        "df = df.drop([1], axis=0)"
      ],
      "execution_count": 6,
      "outputs": []
    },
    {
      "cell_type": "code",
      "metadata": {
        "id": "Skqg2lErkhHA",
        "colab_type": "code",
        "colab": {
          "base_uri": "https://localhost:8080/",
          "height": 527
        },
        "outputId": "e9807aaa-0a82-42e9-aa13-f1e0915d00a5"
      },
      "source": [
        "col = [att + ' ' + df[att][0] for att in df.columns]\n",
        "col"
      ],
      "execution_count": 7,
      "outputs": [
        {
          "output_type": "execute_result",
          "data": {
            "text/plain": [
              "['Adj Close AAPL',\n",
              " 'Adj Close.1 GOOGL',\n",
              " 'Adj Close.2 MSFT',\n",
              " 'Adj Close.3 ^IXIC',\n",
              " 'Adj Close.4 ^GSPC',\n",
              " 'Close AAPL',\n",
              " 'Close.1 GOOGL',\n",
              " 'Close.2 MSFT',\n",
              " 'Close.3 ^IXIC',\n",
              " 'Close.4 ^GSPC',\n",
              " 'High AAPL',\n",
              " 'High.1 GOOGL',\n",
              " 'High.2 MSFT',\n",
              " 'High.3 ^IXIC',\n",
              " 'High.4 ^GSPC',\n",
              " 'Low AAPL',\n",
              " 'Low.1 GOOGL',\n",
              " 'Low.2 MSFT',\n",
              " 'Low.3 ^IXIC',\n",
              " 'Low.4 ^GSPC',\n",
              " 'Open AAPL',\n",
              " 'Open.1 GOOGL',\n",
              " 'Open.2 MSFT',\n",
              " 'Open.3 ^IXIC',\n",
              " 'Open.4 ^GSPC',\n",
              " 'Volume AAPL',\n",
              " 'Volume.1 GOOGL',\n",
              " 'Volume.2 MSFT',\n",
              " 'Volume.3 ^IXIC',\n",
              " 'Volume.4 ^GSPC']"
            ]
          },
          "metadata": {
            "tags": []
          },
          "execution_count": 7
        }
      ]
    },
    {
      "cell_type": "code",
      "metadata": {
        "id": "aOWbgJCYk8Ju",
        "colab_type": "code",
        "colab": {}
      },
      "source": [
        "df.columns = col"
      ],
      "execution_count": 8,
      "outputs": []
    },
    {
      "cell_type": "code",
      "metadata": {
        "id": "HAXaZkxCk941",
        "colab_type": "code",
        "colab": {}
      },
      "source": [
        "df = df.drop([0])"
      ],
      "execution_count": 9,
      "outputs": []
    },
    {
      "cell_type": "code",
      "metadata": {
        "id": "6Z-gDPW3lJ0U",
        "colab_type": "code",
        "colab": {
          "base_uri": "https://localhost:8080/",
          "height": 170
        },
        "outputId": "5ae73e42-2b6d-4769-b70e-38d7647a9814"
      },
      "source": [
        "df.columns"
      ],
      "execution_count": 10,
      "outputs": [
        {
          "output_type": "execute_result",
          "data": {
            "text/plain": [
              "Index(['Adj Close AAPL', 'Adj Close.1 GOOGL', 'Adj Close.2 MSFT',\n",
              "       'Adj Close.3 ^IXIC', 'Adj Close.4 ^GSPC', 'Close AAPL', 'Close.1 GOOGL',\n",
              "       'Close.2 MSFT', 'Close.3 ^IXIC', 'Close.4 ^GSPC', 'High AAPL',\n",
              "       'High.1 GOOGL', 'High.2 MSFT', 'High.3 ^IXIC', 'High.4 ^GSPC',\n",
              "       'Low AAPL', 'Low.1 GOOGL', 'Low.2 MSFT', 'Low.3 ^IXIC', 'Low.4 ^GSPC',\n",
              "       'Open AAPL', 'Open.1 GOOGL', 'Open.2 MSFT', 'Open.3 ^IXIC',\n",
              "       'Open.4 ^GSPC', 'Volume AAPL', 'Volume.1 GOOGL', 'Volume.2 MSFT',\n",
              "       'Volume.3 ^IXIC', 'Volume.4 ^GSPC'],\n",
              "      dtype='object')"
            ]
          },
          "metadata": {
            "tags": []
          },
          "execution_count": 10
        }
      ]
    },
    {
      "cell_type": "code",
      "metadata": {
        "id": "WLC9V_ktH_zR",
        "colab_type": "code",
        "colab": {}
      },
      "source": [
        "close_aapl = df['Close AAPL'].copy().to_numpy()"
      ],
      "execution_count": 11,
      "outputs": []
    },
    {
      "cell_type": "code",
      "metadata": {
        "id": "QQtqMX1JmZXC",
        "colab_type": "code",
        "colab": {}
      },
      "source": [
        "close_aapl_scaler = preprocessing.MinMaxScaler()\n",
        "close_aapl = close_aapl_scaler.fit_transform(close_aapl.reshape(-1, 1))"
      ],
      "execution_count": 12,
      "outputs": []
    },
    {
      "cell_type": "code",
      "metadata": {
        "id": "6sZSM61HyULK",
        "colab_type": "code",
        "colab": {
          "base_uri": "https://localhost:8080/",
          "height": 282
        },
        "outputId": "7948c820-3d74-4e36-c1ff-25f9e90071e9"
      },
      "source": [
        "import matplotlib.pyplot as plt\n",
        "\n",
        "plt.plot(range(len(close_aapl)), close_aapl,color='blue')"
      ],
      "execution_count": 13,
      "outputs": [
        {
          "output_type": "execute_result",
          "data": {
            "text/plain": [
              "[<matplotlib.lines.Line2D at 0x7f0ab878f668>]"
            ]
          },
          "metadata": {
            "tags": []
          },
          "execution_count": 13
        },
        {
          "output_type": "display_data",
          "data": {
            "image/png": "[encoded data removed]",
            "text/plain": [
              "<Figure size 432x288 with 1 Axes>"
            ]
          },
          "metadata": {
            "tags": [],
            "needs_background": "light"
          }
        }
      ]
    },
    {
      "cell_type": "code",
      "metadata": {
        "id": "P_7Ev4b6L5e8",
        "colab_type": "code",
        "colab": {}
      },
      "source": [
        "device = 'cuda:0' if torch.cuda.is_available() else 'cpu'\n",
        "\n",
        "class lstm(nn.Module) :\n",
        "    def __init__(self, input_size, hidden_size, hidden1, n_layers, seq_len) :\n",
        "        super(lstm, self).__init__()\n",
        "        self.insize = input_size\n",
        "        self.hdsize = hidden_size\n",
        "        self.ousize = 1\n",
        "        self.seq_len = seq_len\n",
        "        self.layer = n_layers\n",
        "        self.lstm_cell = nn.LSTM(input_size=self.insize,\n",
        "            hidden_size=self.hdsize,num_layers=self.layer, batch_first=True)\n",
        "        self.fc = nn.Linear(self.hdsize, hidden1)\n",
        "        self.fc1 = nn.Linear(hidden1, 1)\n",
        "\n",
        "    def forward(self, x) :\n",
        "        self.h_state = (torch.zeros(self.layer, len(x), self.hdsize).to(device),\n",
        "                        torch.zeros(self.layer, len(x), self.hdsize).to(device))\n",
        "        lstm_out, self.h_state = self.lstm_cell(x, self.h_state)\n",
        "        out = lstm_out.squeeze()[:,-1,:]\n",
        "        out = self.fc(out)\n",
        "        out = F.sigmoid(out)\n",
        "        out = self.fc1(out)\n",
        "        return out"
      ],
      "execution_count": 14,
      "outputs": []
    },
    {
      "cell_type": "code",
      "metadata": {
        "id": "-Ip1SMqTRHBu",
        "colab_type": "code",
        "colab": {}
      },
      "source": [
        "aapl = torch.from_numpy(close_aapl)"
      ],
      "execution_count": 15,
      "outputs": []
    },
    {
      "cell_type": "code",
      "metadata": {
        "id": "LjKq3TXFAza5",
        "colab_type": "code",
        "colab": {}
      },
      "source": [
        "def create_dataset(data_scaled, seq_length, distance) :\n",
        "    xs = []\n",
        "    ys = []\n",
        "    for i in range(data_scaled.shape[0]-distance-seq_length-1) :\n",
        "        x = data_scaled.clone()[i:i+seq_length]\n",
        "        y = data_scaled.clone()[i+seq_length+distance-1]\n",
        "        xs.append(x)\n",
        "        ys.append(y)\n",
        "    return xs, ys"
      ],
      "execution_count": 16,
      "outputs": []
    },
    {
      "cell_type": "code",
      "metadata": {
        "id": "38M9_rTjC0gY",
        "colab_type": "code",
        "colab": {
          "base_uri": "https://localhost:8080/",
          "height": 34
        },
        "outputId": "50443537-c236-456a-d5e2-bd18b733dbb4"
      },
      "source": [
        "seq_length = 50\n",
        "distance = 7\n",
        "xs, ys = create_dataset(aapl, seq_length, distance)\n",
        "xs = torch.stack(xs)\n",
        "ys = torch.stack(ys)\n",
        "xs.shape, ys.shape"
      ],
      "execution_count": 17,
      "outputs": [
        {
          "output_type": "execute_result",
          "data": {
            "text/plain": [
              "(torch.Size([3781, 50, 1]), torch.Size([3781, 1]))"
            ]
          },
          "metadata": {
            "tags": []
          },
          "execution_count": 17
        }
      ]
    },
    {
      "cell_type": "code",
      "metadata": {
        "id": "c1EP6f6bNXPS",
        "colab_type": "code",
        "colab": {}
      },
      "source": [
        "train_inp = xs.clone()[:3500,:]\n",
        "train_out = ys.clone()[:3500]\n",
        "test_inp = xs.clone()[3500:,:]\n",
        "test_out = ys.clone()[3500:]"
      ],
      "execution_count": 18,
      "outputs": []
    },
    {
      "cell_type": "code",
      "metadata": {
        "id": "sJTwCzK_mTGK",
        "colab_type": "code",
        "colab": {}
      },
      "source": [
        "train_inp = train_inp.to(device).float()\n",
        "train_out = train_out.to(device).float()\n",
        "test_inp = test_inp.to(device).float()\n",
        "test_out = test_out.to(device).float()"
      ],
      "execution_count": 19,
      "outputs": []
    },
    {
      "cell_type": "code",
      "metadata": {
        "id": "rlVeaMLgOlTu",
        "colab_type": "code",
        "colab": {
          "base_uri": "https://localhost:8080/",
          "height": 731
        },
        "outputId": "0a562b46-9db7-45cc-979c-14bd2155bb45"
      },
      "source": [
        "model = lstm(1, 50, 128, 1, seq_length).to(device)\n",
        "optimiser = optim.Adam(model.parameters(), lr=1e-2)\n",
        "epoch = 200\n",
        "\n",
        "loss_function = nn.MSELoss(reduction='sum')\n",
        "\n",
        "train_hist = torch.zeros(epoch)\n",
        "test_hist = torch.zeros(epoch)\n",
        "\n",
        "for e in range(epoch) :\n",
        "    \n",
        "    train_pred = model(train_inp)\n",
        "\n",
        "    train_loss = loss_function(train_pred.float(), train_out)\n",
        "\n",
        "    with torch.no_grad() :\n",
        "        test_pred = model(test_inp) \n",
        "        test_loss = loss_function(test_pred.float(), test_out)\n",
        "    \n",
        "    train_hist[e] = train_loss.item()\n",
        "    test_hist[e] = test_loss.item()\n",
        "\n",
        "    if e % 10 == 0 :\n",
        "        print('Train loss:', train_hist[e], '\\nTest loss:', test_hist[e])\n",
        "\n",
        "    optimiser.zero_grad()\n",
        "\n",
        "    train_loss.backward()\n",
        "\n",
        "    optimiser.step()\n"
      ],
      "execution_count": 20,
      "outputs": [
        {
          "output_type": "stream",
          "text": [
            "/usr/local/lib/python3.6/dist-packages/torch/nn/functional.py:1625: UserWarning: nn.functional.sigmoid is deprecated. Use torch.sigmoid instead.\n",
            "  warnings.warn(\"nn.functional.sigmoid is deprecated. Use torch.sigmoid instead.\")\n"
          ],
          "name": "stderr"
        },
        {
          "output_type": "stream",
          "text": [
            "Train loss: tensor(324.4158) \n",
            "Test loss: tensor(143.7378)\n",
            "Train loss: tensor(186.7797) \n",
            "Test loss: tensor(31.3222)\n",
            "Train loss: tensor(99.3340) \n",
            "Test loss: tensor(32.8373)\n",
            "Train loss: tensor(10.8326) \n",
            "Test loss: tensor(10.5185)\n",
            "Train loss: tensor(1.9314) \n",
            "Test loss: tensor(1.9289)\n",
            "Train loss: tensor(1.5615) \n",
            "Test loss: tensor(0.8440)\n",
            "Train loss: tensor(0.8000) \n",
            "Test loss: tensor(0.6560)\n",
            "Train loss: tensor(0.7598) \n",
            "Test loss: tensor(0.9027)\n",
            "Train loss: tensor(0.6846) \n",
            "Test loss: tensor(0.8331)\n",
            "Train loss: tensor(0.6563) \n",
            "Test loss: tensor(0.6999)\n",
            "Train loss: tensor(0.6424) \n",
            "Test loss: tensor(0.6475)\n",
            "Train loss: tensor(0.6296) \n",
            "Test loss: tensor(0.6300)\n",
            "Train loss: tensor(0.6216) \n",
            "Test loss: tensor(0.6261)\n",
            "Train loss: tensor(0.6149) \n",
            "Test loss: tensor(0.6104)\n",
            "Train loss: tensor(0.6090) \n",
            "Test loss: tensor(0.5844)\n",
            "Train loss: tensor(0.6040) \n",
            "Test loss: tensor(0.5631)\n",
            "Train loss: tensor(0.5999) \n",
            "Test loss: tensor(0.5471)\n",
            "Train loss: tensor(0.5965) \n",
            "Test loss: tensor(0.5330)\n",
            "Train loss: tensor(0.5936) \n",
            "Test loss: tensor(0.5198)\n",
            "Train loss: tensor(0.5912) \n",
            "Test loss: tensor(0.5077)\n"
          ],
          "name": "stdout"
        }
      ]
    },
    {
      "cell_type": "code",
      "metadata": {
        "id": "zGsC42QltItM",
        "colab_type": "code",
        "colab": {
          "base_uri": "https://localhost:8080/",
          "height": 282
        },
        "outputId": "2e34a7f3-47c9-4044-b248-1f31c000974f"
      },
      "source": [
        "import matplotlib.pyplot as plt\n",
        "\n",
        "plt.scatter(train_out.cpu().detach(), train_pred.cpu().detach(),color='blue')\n",
        "plt.scatter(test_out.cpu().detach(), test_pred.cpu().detach(),color='red')"
      ],
      "execution_count": 21,
      "outputs": [
        {
          "output_type": "execute_result",
          "data": {
            "text/plain": [
              "<matplotlib.collections.PathCollection at 0x7f0ab04ee470>"
            ]
          },
          "metadata": {
            "tags": []
          },
          "execution_count": 21
        },
        {
          "output_type": "display_data",
          "data": {
            "image/png": "[encoded data removed]",
            "text/plain": [
              "<Figure size 432x288 with 1 Axes>"
            ]
          },
          "metadata": {
            "tags": [],
            "needs_background": "light"
          }
        }
      ]
    },
    {
      "cell_type": "code",
      "metadata": {
        "id": "HalTW2cqJuFn",
        "colab_type": "code",
        "colab": {
          "base_uri": "https://localhost:8080/",
          "height": 282
        },
        "outputId": "b96cedd0-641c-4322-f1c9-f0a89adc2494"
      },
      "source": [
        "plt.plot(range(len(train_out)), train_out.cpu().detach(), color='blue')\n",
        "plt.plot(range(len(train_pred)), train_pred.cpu().detach(), color='red')\n",
        "plt.plot(range(len(train_out), len(train_out) + len(test_out)), test_out.cpu().detach(), color='black')\n",
        "plt.plot(range(len(train_out), len(train_out) + len(test_out)), test_pred.cpu().detach(), color='green')"
      ],
      "execution_count": 23,
      "outputs": [
        {
          "output_type": "execute_result",
          "data": {
            "text/plain": [
              "[<matplotlib.lines.Line2D at 0x7f0ab035c898>]"
            ]
          },
          "metadata": {
            "tags": []
          },
          "execution_count": 23
        },
        {
          "output_type": "display_data",
          "data": {
            "image/png": "[encoded data removed]",
            "text/plain": [
              "<Figure size 432x288 with 1 Axes>"
            ]
          },
          "metadata": {
            "tags": [],
            "needs_background": "light"
          }
        }
      ]
    },
    {
      "cell_type": "code",
      "metadata": {
        "id": "gJaWm_Q2uRnS",
        "colab_type": "code",
        "colab": {
          "base_uri": "https://localhost:8080/",
          "height": 282
        },
        "outputId": "c3d8e397-ba2f-4e4d-b8f9-730687cd1fb1"
      },
      "source": [
        "plt.plot(range(epoch),train_hist)\n",
        "plt.plot(range(epoch),test_hist)"
      ],
      "execution_count": 24,
      "outputs": [
        {
          "output_type": "execute_result",
          "data": {
            "text/plain": [
              "[<matplotlib.lines.Line2D at 0x7f0ab0427d30>]"
            ]
          },
          "metadata": {
            "tags": []
          },
          "execution_count": 24
        },
        {
          "output_type": "display_data",
          "data": {
            "image/png": "[encoded data removed]",
            "text/plain": [
              "<Figure size 432x288 with 1 Axes>"
            ]
          },
          "metadata": {
            "tags": [],
            "needs_background": "light"
          }
        }
      ]
    },
    {
      "cell_type": "code",
      "metadata": {
        "id": "xoIbTefnjr9S",
        "colab_type": "code",
        "colab": {}
      },
      "source": [
        "df.to_csv('/content/drive/My Drive/MSc/data/data.csv')"
      ],
      "execution_count": 25,
      "outputs": []
    },
    {
      "cell_type": "code",
      "metadata": {
        "id": "BuwuOm45bESe",
        "colab_type": "code",
        "colab": {}
      },
      "source": [
        ""
      ],
      "execution_count": null,
      "outputs": []
    }
  ]
}