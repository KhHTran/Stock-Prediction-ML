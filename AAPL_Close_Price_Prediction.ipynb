{
  "nbformat": 4,
  "nbformat_minor": 0,
  "metadata": {
    "colab": {
      "name": "AAPL_Close_Price_Prediction.ipynb",
      "provenance": []
    },
    "kernelspec": {
      "name": "python3",
      "display_name": "Python 3"
    },
    "accelerator": "GPU"
  },
  "cells": [
    {
      "cell_type": "code",
      "metadata": {
        "id": "_ZORxN5ZJTb3",
        "colab_type": "code",
        "colab": {
          "base_uri": "https://localhost:8080/",
          "height": 34
        },
        "outputId": "16e8fcb2-1912-4798-aaa9-3322a1df8f6f"
      },
      "source": [
        "from google.colab import drive\n",
        "\n",
        "drive.mount('/content/drive')"
      ],
      "execution_count": 8,
      "outputs": [
        {
          "output_type": "stream",
          "text": [
            "Drive already mounted at /content/drive; to attempt to forcibly remount, call drive.mount(\"/content/drive\", force_remount=True).\n"
          ],
          "name": "stdout"
        }
      ]
    },
    {
      "cell_type": "code",
      "metadata": {
        "id": "y_xNmZydKUuB",
        "colab_type": "code",
        "colab": {
          "base_uri": "https://localhost:8080/",
          "height": 190
        },
        "outputId": "dad6df27-90bd-49de-f074-1d966138f7b3"
      },
      "source": [
        "! pip install torchbearer"
      ],
      "execution_count": 2,
      "outputs": [
        {
          "output_type": "stream",
          "text": [
            "Collecting torchbearer\n",
            "\u001b[?25l  Downloading https://files.pythonhosted.org/packages/ff/e9/4049a47dd2e5b6346a2c5d215b0c67dce814afbab1cd54ce024533c4834e/torchbearer-0.5.3-py3-none-any.whl (138kB)\n",
            "\r\u001b[K     |██▍                             | 10kB 22.9MB/s eta 0:00:01\r\u001b[K     |████▊                           | 20kB 3.1MB/s eta 0:00:01\r\u001b[K     |███████▏                        | 30kB 4.0MB/s eta 0:00:01\r\u001b[K     |█████████▌                      | 40kB 4.4MB/s eta 0:00:01\r\u001b[K     |███████████▉                    | 51kB 3.6MB/s eta 0:00:01\r\u001b[K     |██████████████▎                 | 61kB 4.0MB/s eta 0:00:01\r\u001b[K     |████████████████▋               | 71kB 4.4MB/s eta 0:00:01\r\u001b[K     |███████████████████             | 81kB 4.8MB/s eta 0:00:01\r\u001b[K     |█████████████████████▍          | 92kB 5.2MB/s eta 0:00:01\r\u001b[K     |███████████████████████▊        | 102kB 4.9MB/s eta 0:00:01\r\u001b[K     |██████████████████████████      | 112kB 4.9MB/s eta 0:00:01\r\u001b[K     |████████████████████████████▌   | 122kB 4.9MB/s eta 0:00:01\r\u001b[K     |██████████████████████████████▉ | 133kB 4.9MB/s eta 0:00:01\r\u001b[K     |████████████████████████████████| 143kB 4.9MB/s \n",
            "\u001b[?25hRequirement already satisfied: tqdm in /usr/local/lib/python3.6/dist-packages (from torchbearer) (4.41.1)\n",
            "Requirement already satisfied: numpy in /usr/local/lib/python3.6/dist-packages (from torchbearer) (1.18.5)\n",
            "Requirement already satisfied: torch>=1.0.0 in /usr/local/lib/python3.6/dist-packages (from torchbearer) (1.6.0+cu101)\n",
            "Requirement already satisfied: future in /usr/local/lib/python3.6/dist-packages (from torch>=1.0.0->torchbearer) (0.16.0)\n",
            "Installing collected packages: torchbearer\n",
            "Successfully installed torchbearer-0.5.3\n"
          ],
          "name": "stdout"
        }
      ]
    },
    {
      "cell_type": "code",
      "metadata": {
        "id": "H32ZzwVSK6IV",
        "colab_type": "code",
        "colab": {}
      },
      "source": [
        "import torch\n",
        "import pandas as pd\n",
        "import numpy as np\n",
        "import sklearn\n",
        "from sklearn import preprocessing\n",
        "from torch import nn\n",
        "from torch.nn import functional as F\n",
        "from torch import optim\n",
        "import torchbearer\n",
        "from torch.utils.data import DataLoader, Dataset\n",
        "from datetime import datetime\n",
        "import matplotlib.pyplot as plt"
      ],
      "execution_count": 26,
      "outputs": []
    },
    {
      "cell_type": "code",
      "metadata": {
        "id": "YOXo7arULELc",
        "colab_type": "code",
        "colab": {}
      },
      "source": [
        "df = pd.read_csv('/content/drive/My Drive/MSc/data/data.csv')"
      ],
      "execution_count": 11,
      "outputs": []
    },
    {
      "cell_type": "code",
      "metadata": {
        "id": "dVNgfgSx5yf4",
        "colab_type": "code",
        "colab": {}
      },
      "source": [
        "df = df.drop(['Attributes'], axis=1)\n",
        "df = df.drop([1], axis=0)\n",
        "col = [att + ' ' + df[att][0] for att in df.columns]\n",
        "df.columns = col\n",
        "df = df.drop([0])"
      ],
      "execution_count": 13,
      "outputs": []
    },
    {
      "cell_type": "code",
      "metadata": {
        "id": "6Z-gDPW3lJ0U",
        "colab_type": "code",
        "colab": {
          "base_uri": "https://localhost:8080/",
          "height": 170
        },
        "outputId": "32c90f7a-cf3c-4df1-cd44-10d44591b5ef"
      },
      "source": [
        "df.columns"
      ],
      "execution_count": 14,
      "outputs": [
        {
          "output_type": "execute_result",
          "data": {
            "text/plain": [
              "Index(['Adj Close AAPL', 'Adj Close.1 GOOGL', 'Adj Close.2 MSFT',\n",
              "       'Adj Close.3 ^IXIC', 'Adj Close.4 ^GSPC', 'Close AAPL', 'Close.1 GOOGL',\n",
              "       'Close.2 MSFT', 'Close.3 ^IXIC', 'Close.4 ^GSPC', 'High AAPL',\n",
              "       'High.1 GOOGL', 'High.2 MSFT', 'High.3 ^IXIC', 'High.4 ^GSPC',\n",
              "       'Low AAPL', 'Low.1 GOOGL', 'Low.2 MSFT', 'Low.3 ^IXIC', 'Low.4 ^GSPC',\n",
              "       'Open AAPL', 'Open.1 GOOGL', 'Open.2 MSFT', 'Open.3 ^IXIC',\n",
              "       'Open.4 ^GSPC', 'Volume AAPL', 'Volume.1 GOOGL', 'Volume.2 MSFT',\n",
              "       'Volume.3 ^IXIC', 'Volume.4 ^GSPC'],\n",
              "      dtype='object')"
            ]
          },
          "metadata": {
            "tags": []
          },
          "execution_count": 14
        }
      ]
    },
    {
      "cell_type": "code",
      "metadata": {
        "id": "WLC9V_ktH_zR",
        "colab_type": "code",
        "colab": {}
      },
      "source": [
        "close_aapl = df['Close AAPL'].copy().to_numpy()"
      ],
      "execution_count": 15,
      "outputs": []
    },
    {
      "cell_type": "code",
      "metadata": {
        "id": "QQtqMX1JmZXC",
        "colab_type": "code",
        "colab": {}
      },
      "source": [
        "close_aapl_scaler = preprocessing.MinMaxScaler()\n",
        "close_aapl = close_aapl_scaler.fit_transform(close_aapl.reshape(-1, 1))"
      ],
      "execution_count": 16,
      "outputs": []
    },
    {
      "cell_type": "code",
      "metadata": {
        "id": "H36M_Iz66wla",
        "colab_type": "code",
        "colab": {}
      },
      "source": [
        "dates = pd.read_csv('/content/drive/My Drive/MSc/data/data.csv')['Attributes'].drop([0,1]).to_numpy()\n",
        "dates = [datetime.strptime(date, '%Y-%m-%d') for date in dates]"
      ],
      "execution_count": 31,
      "outputs": []
    },
    {
      "cell_type": "code",
      "metadata": {
        "id": "6sZSM61HyULK",
        "colab_type": "code",
        "colab": {
          "base_uri": "https://localhost:8080/",
          "height": 296
        },
        "outputId": "89add367-932b-4966-d7d2-c18851d12952"
      },
      "source": [
        "import matplotlib.pyplot as plt\n",
        "plt.xlabel('Date')\n",
        "plt.ylabel('Scaled Price')\n",
        "plt.plot(dates, close_aapl,color='blue')"
      ],
      "execution_count": 33,
      "outputs": [
        {
          "output_type": "execute_result",
          "data": {
            "text/plain": [
              "[<matplotlib.lines.Line2D at 0x7fe094fe4f98>]"
            ]
          },
          "metadata": {
            "tags": []
          },
          "execution_count": 33
        },
        {
          "output_type": "display_data",
          "data": {
            "image/png": "[encoded data removed]",
            "text/plain": [
              "<Figure size 432x288 with 1 Axes>"
            ]
          },
          "metadata": {
            "tags": [],
            "needs_background": "light"
          }
        }
      ]
    },
    {
      "cell_type": "code",
      "metadata": {
        "id": "P_7Ev4b6L5e8",
        "colab_type": "code",
        "colab": {}
      },
      "source": [
        "device = 'cuda:0' if torch.cuda.is_available() else 'cpu'\n",
        "\n",
        "class lstm(nn.Module) :\n",
        "    def __init__(self, input_size, hidden_size, hidden1, n_layers, seq_len) :\n",
        "        super(lstm, self).__init__()\n",
        "        self.insize = input_size\n",
        "        self.hdsize = hidden_size\n",
        "        self.ousize = 1\n",
        "        self.seq_len = seq_len\n",
        "        self.layer = n_layers\n",
        "        self.lstm_cell = nn.LSTM(input_size=self.insize,\n",
        "            hidden_size=self.hdsize,num_layers=self.layer, batch_first=True)\n",
        "        self.fc = nn.Linear(self.hdsize, hidden1)\n",
        "        self.fc1 = nn.Linear(hidden1, 1)\n",
        "\n",
        "    def forward(self, x) :\n",
        "        self.h_state = (torch.zeros(self.layer, len(x), self.hdsize).to(device),\n",
        "                        torch.zeros(self.layer, len(x), self.hdsize).to(device))\n",
        "        lstm_out, self.h_state = self.lstm_cell(x, self.h_state)\n",
        "        out = lstm_out.squeeze()[:,-1,:]\n",
        "        out = self.fc(out)\n",
        "        out = F.sigmoid(out)\n",
        "        out = self.fc1(out)\n",
        "        return out"
      ],
      "execution_count": 34,
      "outputs": []
    },
    {
      "cell_type": "code",
      "metadata": {
        "id": "-Ip1SMqTRHBu",
        "colab_type": "code",
        "colab": {}
      },
      "source": [
        "aapl = torch.from_numpy(close_aapl)"
      ],
      "execution_count": 35,
      "outputs": []
    },
    {
      "cell_type": "code",
      "metadata": {
        "id": "LjKq3TXFAza5",
        "colab_type": "code",
        "colab": {}
      },
      "source": [
        "def create_dataset(data_scaled, seq_length, distance) :\n",
        "    xs = []\n",
        "    ys = []\n",
        "    for i in range(data_scaled.shape[0]-distance-seq_length-1) :\n",
        "        x = data_scaled.clone()[i:i+seq_length]\n",
        "        y = data_scaled.clone()[i+seq_length+distance-1]\n",
        "        xs.append(x)\n",
        "        ys.append(y)\n",
        "    return xs, ys"
      ],
      "execution_count": 36,
      "outputs": []
    },
    {
      "cell_type": "code",
      "metadata": {
        "id": "38M9_rTjC0gY",
        "colab_type": "code",
        "colab": {
          "base_uri": "https://localhost:8080/",
          "height": 34
        },
        "outputId": "39d0042f-5a73-4a15-98a0-0432bc29e021"
      },
      "source": [
        "seq_length = 50\n",
        "distance = 7\n",
        "xs, ys = create_dataset(aapl, seq_length, distance)\n",
        "xs = torch.stack(xs)\n",
        "ys = torch.stack(ys)\n",
        "xs.shape, ys.shape"
      ],
      "execution_count": 37,
      "outputs": [
        {
          "output_type": "execute_result",
          "data": {
            "text/plain": [
              "(torch.Size([3781, 50, 1]), torch.Size([3781, 1]))"
            ]
          },
          "metadata": {
            "tags": []
          },
          "execution_count": 37
        }
      ]
    },
    {
      "cell_type": "code",
      "metadata": {
        "id": "c1EP6f6bNXPS",
        "colab_type": "code",
        "colab": {}
      },
      "source": [
        "train_inp = xs.clone()[:3500,:]\n",
        "train_out = ys.clone()[:3500]\n",
        "test_inp = xs.clone()[3500:,:]\n",
        "test_out = ys.clone()[3500:]"
      ],
      "execution_count": 38,
      "outputs": []
    },
    {
      "cell_type": "code",
      "metadata": {
        "id": "sJTwCzK_mTGK",
        "colab_type": "code",
        "colab": {}
      },
      "source": [
        "train_inp = train_inp.to(device).float()\n",
        "train_out = train_out.to(device).float()\n",
        "test_inp = test_inp.to(device).float()\n",
        "test_out = test_out.to(device).float()"
      ],
      "execution_count": 39,
      "outputs": []
    },
    {
      "cell_type": "code",
      "metadata": {
        "id": "rlVeaMLgOlTu",
        "colab_type": "code",
        "colab": {
          "base_uri": "https://localhost:8080/",
          "height": 391
        },
        "outputId": "fc003219-840b-4c07-d5fb-47508ccba9c4"
      },
      "source": [
        "model = lstm(1, 50, 128, 1, seq_length).to(device)\n",
        "optimiser = optim.Adam(model.parameters(), lr=1e-3)\n",
        "epoch = 100\n",
        "\n",
        "loss_function = nn.MSELoss(reduction='sum')\n",
        "\n",
        "train_hist = torch.zeros(epoch)\n",
        "test_hist = torch.zeros(epoch)\n",
        "\n",
        "for e in range(epoch) :\n",
        "    \n",
        "    train_pred = model(train_inp)\n",
        "\n",
        "    train_loss = loss_function(train_pred.float(), train_out)\n",
        "\n",
        "    with torch.no_grad() :\n",
        "        test_pred = model(test_inp) \n",
        "        test_loss = loss_function(test_pred.float(), test_out)\n",
        "    \n",
        "    train_hist[e] = train_loss.item()\n",
        "    test_hist[e] = test_loss.item()\n",
        "\n",
        "    if e % 10 == 0 :\n",
        "        print('Train loss:', train_hist[e], '\\nTest loss:', test_hist[e])\n",
        "\n",
        "    optimiser.zero_grad()\n",
        "\n",
        "    train_loss.backward()\n",
        "\n",
        "    optimiser.step()\n"
      ],
      "execution_count": 48,
      "outputs": [
        {
          "output_type": "stream",
          "text": [
            "/usr/local/lib/python3.6/dist-packages/torch/nn/functional.py:1625: UserWarning: nn.functional.sigmoid is deprecated. Use torch.sigmoid instead.\n",
            "  warnings.warn(\"nn.functional.sigmoid is deprecated. Use torch.sigmoid instead.\")\n"
          ],
          "name": "stderr"
        },
        {
          "output_type": "stream",
          "text": [
            "Train loss: tensor(221.7669) \n",
            "Test loss: tensor(116.4692)\n",
            "Train loss: tensor(120.8513) \n",
            "Test loss: tensor(61.2247)\n",
            "Train loss: tensor(116.1674) \n",
            "Test loss: tensor(56.4042)\n",
            "Train loss: tensor(103.7982) \n",
            "Test loss: tensor(57.5581)\n",
            "Train loss: tensor(32.8224) \n",
            "Test loss: tensor(4.8593)\n",
            "Train loss: tensor(10.5197) \n",
            "Test loss: tensor(4.0865)\n",
            "Train loss: tensor(7.7094) \n",
            "Test loss: tensor(7.8773)\n",
            "Train loss: tensor(3.9953) \n",
            "Test loss: tensor(2.4853)\n",
            "Train loss: tensor(2.6346) \n",
            "Test loss: tensor(2.6799)\n",
            "Train loss: tensor(1.9870) \n",
            "Test loss: tensor(1.8099)\n"
          ],
          "name": "stdout"
        }
      ]
    },
    {
      "cell_type": "code",
      "metadata": {
        "id": "zGsC42QltItM",
        "colab_type": "code",
        "colab": {
          "base_uri": "https://localhost:8080/",
          "height": 296
        },
        "outputId": "3743a59a-6055-49d5-f809-8ce5c00c77bc"
      },
      "source": [
        "import matplotlib.pyplot as plt\n",
        "\n",
        "plt.scatter(train_out.cpu().detach(), train_pred.cpu().detach(),color='blue')\n",
        "plt.scatter(test_out.cpu().detach(), test_pred.cpu().detach(),color='red')\n",
        "plt.ylabel('Predicted values')\n",
        "plt.xlabel('Target values')\n",
        "plt.legend(['Train Data', 'Test Data'])"
      ],
      "execution_count": 49,
      "outputs": [
        {
          "output_type": "execute_result",
          "data": {
            "text/plain": [
              "<matplotlib.legend.Legend at 0x7fe094577128>"
            ]
          },
          "metadata": {
            "tags": []
          },
          "execution_count": 49
        },
        {
          "output_type": "display_data",
          "data": {
            "image/png": "[encoded data removed]",
            "text/plain": [
              "<Figure size 432x288 with 1 Axes>"
            ]
          },
          "metadata": {
            "tags": [],
            "needs_background": "light"
          }
        }
      ]
    },
    {
      "cell_type": "code",
      "metadata": {
        "id": "HalTW2cqJuFn",
        "colab_type": "code",
        "colab": {
          "base_uri": "https://localhost:8080/",
          "height": 296
        },
        "outputId": "801f5f86-af38-4a75-c725-ad21a8e43e7b"
      },
      "source": [
        "plt.plot(dates[:len(train_out)], train_out.cpu().detach(), color='blue')\n",
        "plt.plot(dates[:len(train_pred)], train_pred.cpu().detach(), color='red')\n",
        "plt.plot(dates[len(train_out): len(train_out) + len(test_out)], test_out.cpu().detach(), color='black')\n",
        "plt.plot(dates[len(train_pred): len(train_pred) + len(test_pred)], test_pred.cpu().detach(), color='green')\n",
        "plt.xlabel('Date')\n",
        "plt.ylabel('Scaled Price')\n",
        "plt.legend(['Train Targets', 'Train Predictions', 'Test Targets', 'Test Predictions'])"
      ],
      "execution_count": 50,
      "outputs": [
        {
          "output_type": "execute_result",
          "data": {
            "text/plain": [
              "<matplotlib.legend.Legend at 0x7fe091c70470>"
            ]
          },
          "metadata": {
            "tags": []
          },
          "execution_count": 50
        },
        {
          "output_type": "display_data",
          "data": {
            "image/png": "[encoded data removed]",
            "text/plain": [
              "<Figure size 432x288 with 1 Axes>"
            ]
          },
          "metadata": {
            "tags": [],
            "needs_background": "light"
          }
        }
      ]
    },
    {
      "cell_type": "code",
      "metadata": {
        "id": "gJaWm_Q2uRnS",
        "colab_type": "code",
        "colab": {
          "base_uri": "https://localhost:8080/",
          "height": 296
        },
        "outputId": "3bd206fe-747d-4e69-c7e8-95b71edb8aba"
      },
      "source": [
        "plt.plot(range(epoch),train_hist)\n",
        "plt.plot(range(epoch),test_hist)\n",
        "plt.ylabel('Loss')\n",
        "plt.xlabel('Epoch')\n",
        "plt.legend(['Train loss Adam 1e-3', 'Test loss Adam 1e-3'])"
      ],
      "execution_count": 52,
      "outputs": [
        {
          "output_type": "execute_result",
          "data": {
            "text/plain": [
              "<matplotlib.legend.Legend at 0x7fe091acc860>"
            ]
          },
          "metadata": {
            "tags": []
          },
          "execution_count": 52
        },
        {
          "output_type": "display_data",
          "data": {
            "image/png": "[encoded data removed]",
            "text/plain": [
              "<Figure size 432x288 with 1 Axes>"
            ]
          },
          "metadata": {
            "tags": [],
            "needs_background": "light"
          }
        }
      ]
    },
    {
      "cell_type": "code",
      "metadata": {
        "id": "BuwuOm45bESe",
        "colab_type": "code",
        "colab": {}
      },
      "source": [
        ""
      ],
      "execution_count": null,
      "outputs": []
    }
  ]
}